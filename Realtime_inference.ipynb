{
 "cells": [
  {
   "cell_type": "code",
   "execution_count": 4,
   "metadata": {
    "scrolled": true
   },
   "outputs": [
    {
     "name": "stdout",
     "output_type": "stream",
     "text": [
      "Could not import the PyAudio C module '_portaudio'.\n"
     ]
    },
    {
     "ename": "ImportError",
     "evalue": "DLL load failed: The specified module could not be found.",
     "output_type": "error",
     "traceback": [
      "\u001b[1;31m---------------------------------------------------------------------------\u001b[0m",
      "\u001b[1;31mImportError\u001b[0m                               Traceback (most recent call last)",
      "\u001b[1;32mC:\\Users\\ONTOPI~1\\AppData\\Local\\Temp/ipykernel_13672/2544946281.py\u001b[0m in \u001b[0;36m<module>\u001b[1;34m\u001b[0m\n\u001b[0;32m     11\u001b[0m \u001b[1;32mimport\u001b[0m \u001b[0myamnet\u001b[0m \u001b[1;32mas\u001b[0m \u001b[0myamnet_model\u001b[0m\u001b[1;33m\u001b[0m\u001b[0m\n\u001b[0;32m     12\u001b[0m \u001b[1;33m\u001b[0m\u001b[0m\n\u001b[1;32m---> 13\u001b[1;33m \u001b[1;32mimport\u001b[0m \u001b[0mpyaudio\u001b[0m\u001b[1;33m\u001b[0m\u001b[0m\n\u001b[0m\u001b[0;32m     14\u001b[0m \u001b[1;32mfrom\u001b[0m \u001b[0marray\u001b[0m \u001b[1;32mimport\u001b[0m \u001b[0marray\u001b[0m\u001b[1;33m\u001b[0m\u001b[0m\n\u001b[0;32m     15\u001b[0m \u001b[1;32mimport\u001b[0m \u001b[0mwave\u001b[0m\u001b[1;33m\u001b[0m\u001b[0m\n",
      "\u001b[1;32m~\\anaconda3\\envs\\nlp3.7\\lib\\site-packages\\pyaudio.py\u001b[0m in \u001b[0;36m<module>\u001b[1;34m\u001b[0m\n\u001b[0;32m    114\u001b[0m \u001b[1;31m# attempt to import PortAudio\u001b[0m\u001b[1;33m\u001b[0m\u001b[1;33m\u001b[0m\u001b[0m\n\u001b[0;32m    115\u001b[0m \u001b[1;32mtry\u001b[0m\u001b[1;33m:\u001b[0m\u001b[1;33m\u001b[0m\u001b[0m\n\u001b[1;32m--> 116\u001b[1;33m     \u001b[1;32mimport\u001b[0m \u001b[0m_portaudio\u001b[0m \u001b[1;32mas\u001b[0m \u001b[0mpa\u001b[0m\u001b[1;33m\u001b[0m\u001b[0m\n\u001b[0m\u001b[0;32m    117\u001b[0m \u001b[1;32mexcept\u001b[0m \u001b[0mImportError\u001b[0m\u001b[1;33m:\u001b[0m\u001b[1;33m\u001b[0m\u001b[0m\n\u001b[0;32m    118\u001b[0m     \u001b[0mprint\u001b[0m\u001b[1;33m(\u001b[0m\u001b[1;34m\"Could not import the PyAudio C module '_portaudio'.\"\u001b[0m\u001b[1;33m)\u001b[0m\u001b[1;33m\u001b[0m\u001b[0m\n",
      "\u001b[1;31mImportError\u001b[0m: DLL load failed: The specified module could not be found."
     ]
    }
   ],
   "source": [
    "from __future__ import division, print_function\n",
    "\n",
    "import sys\n",
    "\n",
    "import numpy as np\n",
    "import resampy\n",
    "import soundfile as sf\n",
    "import tensorflow as tf\n",
    "\n",
    "import params\n",
    "import yamnet as yamnet_model\n",
    "\n",
    "import pyaudio\n",
    "from array import array\n",
    "import wave"
   ]
  },
  {
   "cell_type": "code",
   "execution_count": null,
   "metadata": {},
   "outputs": [],
   "source": [
    "interpreter = tf.lite.Interpreter(model_path=\"yamnet.tflite\")\n",
    "interpreter.allocate_tensors()\n",
    "inputs = interpreter.get_input_details()\n",
    "outputs = interpreter.get_output_details()\n",
    "\n",
    "yamnet_classes = yamnet_model.class_names('yamnet_class_map.csv')"
   ]
  },
  {
   "cell_type": "code",
   "execution_count": null,
   "metadata": {},
   "outputs": [],
   "source": [
    "print(inputs)"
   ]
  },
  {
   "cell_type": "code",
   "execution_count": null,
   "metadata": {},
   "outputs": [],
   "source": [
    "print(outputs)"
   ]
  },
  {
   "cell_type": "code",
   "execution_count": null,
   "metadata": {},
   "outputs": [],
   "source": [
    "file_name=r'examples/baby_975ms.wav'"
   ]
  },
  {
   "cell_type": "code",
   "execution_count": null,
   "metadata": {},
   "outputs": [],
   "source": [
    "wav_data, sr = sf.read(file_name, dtype=np.int16)\n",
    "assert wav_data.dtype == np.int16, 'Bad sample type: %r' % wav_data.dtype\n",
    "waveform = wav_data / 32768.0  # Convert to [-1.0, +1.0]\n",
    "\n",
    "# Convert to mono and the sample rate expected by YAMNet.\n",
    "if len(waveform.shape) > 1:\n",
    "  waveform = np.mean(waveform, axis=1)\n",
    "if sr != params.SAMPLE_RATE:\n",
    "  waveform = resampy.resample(waveform, sr, params.SAMPLE_RATE)\n"
   ]
  },
  {
   "cell_type": "code",
   "execution_count": null,
   "metadata": {},
   "outputs": [],
   "source": [
    "interpreter.set_tensor(inputs[0]['index'], np.expand_dims(np.array(waveform, dtype=np.float32), axis=0))\n",
    "interpreter.invoke()\n",
    "scores = interpreter.get_tensor(outputs[0]['index'])\n",
    "\n",
    "# Scores is a matrix of (time_frames, num_classes) classifier scores.\n",
    "# Average them along time to get an overall classifier output for the clip.\n",
    "prediction = np.mean(scores, axis=0)\n",
    "# Report the highest-scoring classes and their scores.\n",
    "top5_i = np.argsort(prediction)[::-1][:5]\n",
    "print(file_name, ':\\n' + \n",
    "      '\\n'.join('  {:12s}: {:.3f}'.format(yamnet_classes[i], prediction[i])\n",
    "                for i in top5_i))"
   ]
  },
  {
   "cell_type": "code",
   "execution_count": null,
   "metadata": {},
   "outputs": [],
   "source": [
    "def classify_sound(file_name):\n",
    "    wav_data, sr = sf.read(file_name, dtype=np.int16)\n",
    "    assert wav_data.dtype == np.int16, 'Bad sample type: %r' % wav_data.dtype\n",
    "    waveform = wav_data / 32768.0  # Convert to [-1.0, +1.0]\n",
    "\n",
    "    # Convert to mono and the sample rate expected by YAMNet.\n",
    "    if len(waveform.shape) > 1:\n",
    "      waveform = np.mean(waveform, axis=1)\n",
    "    if sr != params.SAMPLE_RATE:\n",
    "      waveform = resampy.resample(waveform, sr, params.SAMPLE_RATE)\n",
    "\n",
    "    interpreter.set_tensor(inputs[0]['index'], np.expand_dims(np.array(waveform, dtype=np.float32), axis=0))\n",
    "    interpreter.invoke()\n",
    "    scores = interpreter.get_tensor(outputs[0]['index'])\n",
    "\n",
    "    # Scores is a matrix of (time_frames, num_classes) classifier scores.\n",
    "    # Average them along time to get an overall classifier output for the clip.\n",
    "    prediction = np.mean(scores, axis=0)\n",
    "    # Report the highest-scoring classes and their scores.\n",
    "    top5_i = np.argsort(prediction)[::-1][:5]\n",
    "    print( '\\n'.join('  {:12s}: {:.3f}'.format(yamnet_classes[i], prediction[i])\n",
    "                    for i in top5_i))\n"
   ]
  },
  {
   "cell_type": "code",
   "execution_count": null,
   "metadata": {},
   "outputs": [],
   "source": [
    "classify_sound(file_name)"
   ]
  },
  {
   "cell_type": "code",
   "execution_count": null,
   "metadata": {},
   "outputs": [],
   "source": []
  },
  {
   "cell_type": "code",
   "execution_count": null,
   "metadata": {},
   "outputs": [],
   "source": [
    "FORMAT=pyaudio.paInt16\n",
    "CHANNELS=1\n",
    "RATE=16000\n",
    "CHUNK=50\n",
    "CHUNK_THRESH=64\n",
    "RECORD_SECONDS=0.975\n",
    "FILE_NAME=\"RECORDING.wav\"\n",
    "while(True):\n",
    "    audio=pyaudio.PyAudio() #instantiate the pyaudio\n",
    "\n",
    "    #recording prerequisites\n",
    "    stream=audio.open(format=FORMAT,channels=CHANNELS, \n",
    "                      rate=RATE,\n",
    "                      input=True,\n",
    "                      frames_per_buffer=CHUNK)\n",
    "\n",
    "    #starting recording\n",
    "    frames=[]\n",
    "    while(True):\n",
    "        old_data=stream.read(CHUNK_THRESH)\n",
    "        data_chunk=array('h',old_data)\n",
    "        vol=max(data_chunk)\n",
    "        #print(old_data)\n",
    "        if(vol>=600):\n",
    "            print('Triggered')\n",
    "            #frames.append(old_data)\n",
    "            break\n",
    "    for i in range(0,int(RATE/CHUNK*RECORD_SECONDS)):\n",
    "        #frames.append(old_data)\n",
    "        data=stream.read(CHUNK)\n",
    "        data_chunk=array('h',data)\n",
    "        vol=max(data_chunk)\n",
    "        #if(vol>=300):\n",
    "         #   print(\"something said\")\n",
    "        frames.append(data)\n",
    "        #else:\n",
    "            #print(\"nothing\")\n",
    "        #print(\"\\n\")\n",
    "\n",
    "\n",
    "    #end of recording\n",
    "    stream.stop_stream()\n",
    "    stream.close()\n",
    "    audio.terminate()\n",
    "    #writing to file\n",
    "    wavfile=wave.open(FILE_NAME,'wb')\n",
    "    wavfile.setnchannels(CHANNELS)\n",
    "    wavfile.setsampwidth(audio.get_sample_size(FORMAT))\n",
    "    wavfile.setframerate(RATE)\n",
    "    wavfile.writeframes(b''.join(frames))#append frames recorded to file\n",
    "    wavfile.close()\n",
    "    \n",
    "    classify_sound(FILE_NAME)\n",
    "       "
   ]
  },
  {
   "cell_type": "code",
   "execution_count": null,
   "metadata": {},
   "outputs": [],
   "source": [
    "\n"
   ]
  }
 ],
 "metadata": {
  "kernelspec": {
   "display_name": "Python (nlp3.7)",
   "language": "python",
   "name": "nlp3.7"
  },
  "language_info": {
   "codemirror_mode": {
    "name": "ipython",
    "version": 3
   },
   "file_extension": ".py",
   "mimetype": "text/x-python",
   "name": "python",
   "nbconvert_exporter": "python",
   "pygments_lexer": "ipython3",
   "version": "3.7.0"
  }
 },
 "nbformat": 4,
 "nbformat_minor": 2
}
